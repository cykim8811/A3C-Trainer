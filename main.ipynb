{
 "cells": [
  {
   "cell_type": "code",
   "execution_count": 1,
   "id": "696743dd-e766-4a9d-b8fb-d9cdd59bfa79",
   "metadata": {},
   "outputs": [],
   "source": [
    "import numpy as np\n",
    "import gym\n",
    "import math\n",
    "\n",
    "import torch\n",
    "import torch.nn as nn\n",
    "import torch.nn.functional as F\n",
    "import torch.optim as optimizer\n",
    "import torchinfo\n",
    "\n",
    "\n",
    "from IPython import display\n",
    "import matplotlib\n",
    "import matplotlib.pyplot as plt\n",
    "%matplotlib inline\n",
    "\n",
    "from a3c import A3CAgent, A3CTrainer"
   ]
  },
  {
   "cell_type": "code",
   "execution_count": 2,
   "id": "d6fea2cd-bbf2-42d2-a0e0-190b0f1ce578",
   "metadata": {},
   "outputs": [],
   "source": [
    "\n",
    "class Viewer(nn.Module):\n",
    "    def __init__(self):\n",
    "        super().__init__()\n",
    "        self.layers = nn.Sequential(\n",
    "            nn.Linear(4, 128),\n",
    "        )\n",
    "    \n",
    "    def forward(self, x):\n",
    "        x = self.layers(x)\n",
    "        return x\n",
    "\n",
    "class Actor(nn.Module):\n",
    "    def __init__(self, action_count):\n",
    "        super().__init__()\n",
    "        self.layers = nn.Sequential(\n",
    "            nn.Linear(128, 128),\n",
    "            nn.ReLU(),\n",
    "            nn.Linear(128, action_count),\n",
    "            nn.Softmax()\n",
    "        )\n",
    "    \n",
    "    def forward(self, x):\n",
    "        x = self.layers(x)\n",
    "        return x\n",
    "\n",
    "class Critic(nn.Module):\n",
    "    def __init__(self):\n",
    "        super().__init__()\n",
    "        self.layers = nn.Sequential(\n",
    "            nn.Linear(128, 128),\n",
    "            nn.ReLU(),\n",
    "            nn.Linear(128, 1)\n",
    "        )\n",
    "    \n",
    "    def forward(self, x):\n",
    "        x = self.layers(x)\n",
    "        return x\n"
   ]
  },
  {
   "cell_type": "code",
   "execution_count": 3,
   "id": "aa15b0ea-45c4-431f-810e-53ff36c640e0",
   "metadata": {},
   "outputs": [],
   "source": [
    "viewer = Viewer().cuda()\n",
    "actor = Actor(2).cuda()\n",
    "critic = Critic().cuda()\n",
    "\n",
    "opt_viewer = optimizer.Adam(viewer.parameters(), lr = 0.0001)\n",
    "opt_actor = optimizer.Adam(actor.parameters(), lr = 0.0001)\n",
    "opt_critic = optimizer.Adam(critic.parameters(), lr = 0.0001)"
   ]
  },
  {
   "cell_type": "code",
   "execution_count": 4,
   "id": "ee6d9e3e-d676-4868-9cf7-aba8aea01373",
   "metadata": {
    "tags": []
   },
   "outputs": [],
   "source": [
    "class CartPoleAgent(A3CAgent):\n",
    "    def __init__(self, action_count):\n",
    "        super().__init__(action_count)\n",
    "        self.train_log = [0]\n",
    "\n",
    "    def actor(self, x):\n",
    "        return actor(viewer(x))\n",
    "\n",
    "    def critic(self, x):\n",
    "        return critic(viewer(x))\n",
    "\n",
    "    def train_critic(self, loss):\n",
    "        viewer.train()\n",
    "        critic.train()\n",
    "        opt_viewer.zero_grad()\n",
    "        opt_critic.zero_grad()\n",
    "        loss.backward()\n",
    "        opt_viewer.step()\n",
    "        opt_critic.step()\n",
    "        viewer.eval()\n",
    "        critic.eval()\n",
    "\n",
    "    def train_actor(self, loss):\n",
    "        viewer.train()\n",
    "        actor.train()\n",
    "        opt_viewer.zero_grad()\n",
    "        opt_actor.zero_grad()\n",
    "        loss.backward()\n",
    "        opt_viewer.step()\n",
    "        opt_actor.step()\n",
    "        viewer.eval()\n",
    "        actor.eval()\n",
    "    \n",
    "    def onStep(self, s0, a, r, s1, p, done, info):\n",
    "        self.train_log[-1] += r\n",
    "        if done:\n",
    "            self.train_log.append(0)\n",
    "            "
   ]
  },
  {
   "cell_type": "code",
   "execution_count": 5,
   "id": "37189461-e598-45dd-98f0-75804fab9463",
   "metadata": {},
   "outputs": [
    {
     "name": "stderr",
     "output_type": "stream",
     "text": [
      "/home/cykim/anaconda3/envs/pytorchenv/lib/python3.8/site-packages/gym/core.py:329: DeprecationWarning: \u001b[33mWARN: Initializing wrapper in old step API which returns one bool instead of two. It is recommended to set `new_step_api=True` to use new step API. This will be the default behaviour in future.\u001b[0m\n",
      "  deprecation(\n",
      "/home/cykim/anaconda3/envs/pytorchenv/lib/python3.8/site-packages/gym/wrappers/step_api_compatibility.py:39: DeprecationWarning: \u001b[33mWARN: Initializing environment in old step API which returns one bool instead of two. It is recommended to set `new_step_api=True` to use new step API. This will be the default behaviour in future.\u001b[0m\n",
      "  deprecation(\n"
     ]
    }
   ],
   "source": [
    "trainer = A3CTrainer(\"CartPole-v1\", CartPoleAgent, 8, 10, gamma = 0.99)"
   ]
  },
  {
   "cell_type": "code",
   "execution_count": 9,
   "id": "93fdbf86-b203-4303-999e-80252fdf568d",
   "metadata": {},
   "outputs": [
    {
     "name": "stderr",
     "output_type": "stream",
     "text": [
      "\n",
      "KeyboardInterrupt\n",
      "\n"
     ]
    }
   ],
   "source": [
    "img = trainer.episodes[0].env.render(mode='rgb_array')\n",
    "while True:\n",
    "    trainer.step()\n",
    "    print(f\"Episode {len(trainer.episodes[0].agent.train_log)}\")\n",
    "    print(f\"score: {trainer.episodes[0].agent.train_log[-2:][0]}\")\n",
    "    print(f\"high : {max(trainer.episodes[0].agent.train_log)}\")\n",
    "    display.clear_output(wait=True)\n",
    "    img = trainer.episodes[0].env.render(mode='rgb_array')\n",
    "    plt.figure(figsize=(12, 10))\n",
    "    plt.imshow(img)\n",
    "    plt.show()"
   ]
  },
  {
   "cell_type": "code",
   "execution_count": null,
   "id": "59a45026-d72e-48e0-81e8-61d7b9e914c6",
   "metadata": {},
   "outputs": [],
   "source": []
  },
  {
   "cell_type": "code",
   "execution_count": null,
   "id": "2e5b3531-3d12-4832-b870-b6fc769c2916",
   "metadata": {},
   "outputs": [],
   "source": []
  }
 ],
 "metadata": {
  "kernelspec": {
   "display_name": "pytorchenv",
   "language": "python",
   "name": "pytorchenv"
  },
  "language_info": {
   "codemirror_mode": {
    "name": "ipython",
    "version": 3
   },
   "file_extension": ".py",
   "mimetype": "text/x-python",
   "name": "python",
   "nbconvert_exporter": "python",
   "pygments_lexer": "ipython3",
   "version": "3.8.0"
  }
 },
 "nbformat": 4,
 "nbformat_minor": 5
}
